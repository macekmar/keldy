{
 "cells": [
  {
   "cell_type": "markdown",
   "metadata": {},
   "source": [
    "# Keldy: Playground"
   ]
  },
  {
   "cell_type": "raw",
   "metadata": {},
   "source": [
    "Author: Philipp T. Dumitrescu\n",
    "Date Started: 5. June 2019"
   ]
  },
  {
   "cell_type": "markdown",
   "metadata": {},
   "source": [
    "## Imports & Setup Properties"
   ]
  },
  {
   "cell_type": "code",
   "execution_count": 1,
   "metadata": {},
   "outputs": [],
   "source": [
    "import os\n",
    "import sys\n",
    "import glob\n",
    "import copy\n",
    "import itertools\n",
    "\n",
    "import h5py\n",
    "\n",
    "import math\n",
    "import numpy as np\n",
    "import scipy as sp\n",
    "from scipy.optimize import curve_fit\n",
    "import scipy.integrate\n"
   ]
  },
  {
   "cell_type": "code",
   "execution_count": 2,
   "metadata": {},
   "outputs": [],
   "source": [
    "import mpi4py\n",
    "import mpi4py.MPI"
   ]
  },
  {
   "cell_type": "code",
   "execution_count": 3,
   "metadata": {},
   "outputs": [],
   "source": [
    "# sys.path"
   ]
  },
  {
   "cell_type": "markdown",
   "metadata": {},
   "source": [
    "### Plotting"
   ]
  },
  {
   "cell_type": "code",
   "execution_count": 4,
   "metadata": {},
   "outputs": [],
   "source": [
    "import matplotlib as mpl\n",
    "import matplotlib.pyplot as plt\n",
    "%matplotlib inline\n",
    "%config InlineBackend.print_figure_kwargs\n",
    "%config InlineBackend.print_figure_kwargs={'bbox_inches':None}"
   ]
  },
  {
   "cell_type": "code",
   "execution_count": 5,
   "metadata": {},
   "outputs": [],
   "source": [
    "#Plotting Options\n",
    "markslist='o^v<>dhps*HD'\n",
    "cmap = plt.get_cmap('plasma')\n",
    "color_list_limit = 2\n",
    "\n",
    "def f_colorlist(i, offset = 0, cycle = color_list_limit):\n",
    "    return cmap(float((i+offset)%cycle) / cycle)\n",
    "\n",
    "def f_markslist(i, offset = 0, cycle = color_list_limit):\n",
    "    return markslist[((i+offset)%cycle)]"
   ]
  },
  {
   "cell_type": "markdown",
   "metadata": {},
   "source": [
    "### Keldy Import"
   ]
  },
  {
   "cell_type": "code",
   "execution_count": 6,
   "metadata": {},
   "outputs": [],
   "source": [
    "from pytriqs.gf import *\n",
    "from pytriqs.plot.mpl_interface import oplot,plt\n",
    "\n",
    "import keldy.impurity_oneband_module as k_imp"
   ]
  },
  {
   "cell_type": "markdown",
   "metadata": {},
   "source": [
    "## Model g0"
   ]
  },
  {
   "cell_type": "code",
   "execution_count": 7,
   "metadata": {},
   "outputs": [],
   "source": [
    "# anderson_param = {\n",
    "#     \"beta\": 10000.0, \n",
    "#     \"bias_V\" : 0.0,\n",
    "#     \"eps_d\": -0.5,\n",
    "#     \"Gamma\": 0.25,\n",
    "#     \"time_max\": 100.0,\n",
    "#     \"alpha\": -0.0,\n",
    "#     \"nr_time_points_gf\": int(2*5000-1),#int(1e6),\n",
    "#     \"bath_type\": \"semicircle\"\n",
    "# }\n",
    "\n",
    "anderson_param_A1 = {\n",
    "    \"beta\": 1e5, \n",
    "    \"bias_V\" : 0.0,\n",
    "    \"eps_d\": 0.0,\n",
    "    \"Gamma\": 0.25,\n",
    "    \"time_max\": 500.0,\n",
    "    \"alpha\": 0.0,\n",
    "    \"nr_time_points_gf\": 2 * int(1e6) - 1,#int(1e6),\n",
    "    \"bath_type\": \"semicircle\"\n",
    "}\n",
    "\n",
    "anderson_param_A2 = {\n",
    "    \"beta\": 1e5, \n",
    "    \"bias_V\" : 0.0,\n",
    "    \"eps_d\": -0.5,\n",
    "    \"Gamma\": 0.25,\n",
    "    \"time_max\": 500.0,\n",
    "    \"alpha\": 0.0,\n",
    "    \"nr_time_points_gf\": 2 * int(1e6) - 1,#int(1e6),\n",
    "    \"bath_type\": \"semicircle\"\n",
    "}"
   ]
  },
  {
   "cell_type": "code",
   "execution_count": 8,
   "metadata": {},
   "outputs": [],
   "source": [
    "# g0 = k_imp.G0Model(anderson_param)"
   ]
  },
  {
   "cell_type": "code",
   "execution_count": 9,
   "metadata": {},
   "outputs": [
    {
     "ename": "NameError",
     "evalue": "name 'g0' is not defined",
     "output_type": "error",
     "traceback": [
      "\u001b[0;31m---------------------------------------------------------------------------\u001b[0m",
      "\u001b[0;31mNameError\u001b[0m                                 Traceback (most recent call last)",
      "\u001b[0;32m<ipython-input-9-835fc5f495ff>\u001b[0m in \u001b[0;36m<module>\u001b[0;34m()\u001b[0m\n\u001b[0;32m----> 1\u001b[0;31m \u001b[0moplot\u001b[0m\u001b[0;34m(\u001b[0m\u001b[0mg0\u001b[0m\u001b[0;34m.\u001b[0m\u001b[0mg0_greater\u001b[0m\u001b[0;34m,\u001b[0m \u001b[0;34m'-'\u001b[0m\u001b[0;34m,\u001b[0m \u001b[0mlinewidth\u001b[0m\u001b[0;34m=\u001b[0m\u001b[0;36m2\u001b[0m\u001b[0;34m,\u001b[0m \u001b[0mx_window\u001b[0m\u001b[0;34m=\u001b[0m\u001b[0;34m(\u001b[0m\u001b[0;34m-\u001b[0m\u001b[0;36m15\u001b[0m\u001b[0;34m,\u001b[0m\u001b[0;36m15\u001b[0m\u001b[0;34m)\u001b[0m\u001b[0;34m)\u001b[0m\u001b[0;34m\u001b[0m\u001b[0m\n\u001b[0m",
      "\u001b[0;31mNameError\u001b[0m: name 'g0' is not defined"
     ]
    }
   ],
   "source": [
    "oplot(g0.g0_greater, '-', linewidth=2, x_window=(-15,15)) "
   ]
  },
  {
   "cell_type": "code",
   "execution_count": 10,
   "metadata": {},
   "outputs": [
    {
     "ename": "NameError",
     "evalue": "name 'g0' is not defined",
     "output_type": "error",
     "traceback": [
      "\u001b[0;31m---------------------------------------------------------------------------\u001b[0m",
      "\u001b[0;31mNameError\u001b[0m                                 Traceback (most recent call last)",
      "\u001b[0;32m<ipython-input-10-4f0805aab9e5>\u001b[0m in \u001b[0;36m<module>\u001b[0;34m()\u001b[0m\n\u001b[0;32m----> 1\u001b[0;31m \u001b[0moplot\u001b[0m\u001b[0;34m(\u001b[0m\u001b[0mg0\u001b[0m\u001b[0;34m.\u001b[0m\u001b[0mg0_lesser\u001b[0m\u001b[0;34m,\u001b[0m \u001b[0;34m'-'\u001b[0m\u001b[0;34m,\u001b[0m \u001b[0mlinewidth\u001b[0m\u001b[0;34m=\u001b[0m\u001b[0;36m2\u001b[0m\u001b[0;34m,\u001b[0m \u001b[0mx_window\u001b[0m\u001b[0;34m=\u001b[0m\u001b[0;34m(\u001b[0m\u001b[0;34m-\u001b[0m\u001b[0;36m15\u001b[0m\u001b[0;34m,\u001b[0m\u001b[0;36m15\u001b[0m\u001b[0;34m)\u001b[0m\u001b[0;34m)\u001b[0m\u001b[0;34m\u001b[0m\u001b[0m\n\u001b[0m",
      "\u001b[0;31mNameError\u001b[0m: name 'g0' is not defined"
     ]
    }
   ],
   "source": [
    "oplot(g0.g0_lesser, '-', linewidth=2, x_window=(-15,15)) "
   ]
  },
  {
   "cell_type": "markdown",
   "metadata": {},
   "source": [
    "### Keldysh Adaptor"
   ]
  },
  {
   "cell_type": "code",
   "execution_count": 14,
   "metadata": {},
   "outputs": [],
   "source": [
    "g0K = k_imp.G0KeldyshContourT(g0)"
   ]
  },
  {
   "cell_type": "code",
   "execution_count": 15,
   "metadata": {},
   "outputs": [
    {
     "data": {
      "text/plain": [
       "-0.0"
      ]
     },
     "execution_count": 15,
     "metadata": {},
     "output_type": "execute_result"
    }
   ],
   "source": [
    "g0K.model.param_['alpha']"
   ]
  },
  {
   "cell_type": "code",
   "execution_count": 16,
   "metadata": {},
   "outputs": [],
   "source": [
    "# t"
   ]
  },
  {
   "cell_type": "code",
   "execution_count": 17,
   "metadata": {},
   "outputs": [
    {
     "data": {
      "image/png": "[encoded data removed]",
      "text/plain": [
       "<Figure size 1152x576 with 8 Axes>"
      ]
     },
     "metadata": {
      "needs_background": "light"
     },
     "output_type": "display_data"
    }
   ],
   "source": [
    "fig = plt.figure(figsize=(16,8))\n",
    "\n",
    "t = np.linspace(-10,10,251)\n",
    "\n",
    "g_ff = np.zeros(len(t), dtype='c16')\n",
    "g_fb = np.zeros(len(t), dtype='c16')\n",
    "g_bf = np.zeros(len(t), dtype='c16')\n",
    "g_bb = np.zeros(len(t), dtype='c16')\n",
    "gR = np.zeros(len(t), dtype='c16')\n",
    "gA = np.zeros(len(t), dtype='c16')\n",
    "gK = np.zeros(len(t), dtype='c16')\n",
    "g_cancel = np.zeros(len(t), dtype='c16')\n",
    "\n",
    "for i in range(len(t)):\n",
    "    g_ff[i]  = g0K(k_imp.GfIndexT(t[i], 0, 0, 0), k_imp.GfIndexT(0, 0, 0, 0)) \n",
    "    g_fb[i]  = g0K(k_imp.GfIndexT(t[i], 0, 0, 0), k_imp.GfIndexT(0, 0, 1, 0)) \n",
    "    g_bf[i]  = g0K(k_imp.GfIndexT(t[i], 0, 1, 0), k_imp.GfIndexT(0, 0, 0, 0)) \n",
    "    g_bb[i]  = g0K(k_imp.GfIndexT(t[i], 0, 1, 0), k_imp.GfIndexT(0, 0, 1, 0)) \n",
    "\n",
    "    gR[i]  = g_ff[i] - g_fb[i]\n",
    "    gA[i]  = g_ff[i] - g_bf[i]\n",
    "    gK[i]  = g_fb[i] + g_bf[i]\n",
    "    \n",
    "    g_cancel[i] = g_ff[i] + g_bb[i] - g_bf[i] - g_fb[i]\n",
    "\n",
    "plt_list = [(g_ff, \"$G^T$\"), (g_fb, \"$G^<$\"), (g_bf, \"$G^>$\"), (g_bb, r\"$G^{\\hat{T}}$\"), (gR, \"$G^R$\"), (gA, \"$G^A$\"), (gK, \"$G^K$\"), (g_cancel, \"$G^T + G^{\\hat{T}} - G^< - G^>$\")]\n",
    "for (i_p, (fun, label)) in enumerate(plt_list):\n",
    "    ax0 = plt.subplot(2,4,i_p + 1)\n",
    "    ax0.plot(t, fun.real, marker='o', markersize=2, color='red')\n",
    "    ax0.plot(t, fun.imag, marker='o', markersize=2, color='blue')\n",
    "    ax0.set_title(label)\n",
    "#     ax0.set_scale.\n",
    "# plt.savefig(\"ph-symm-gf.pdf\")\n",
    "plt.show()"
   ]
  },
  {
   "cell_type": "markdown",
   "metadata": {},
   "source": [
    "## Measurement"
   ]
  },
  {
   "cell_type": "code",
   "execution_count": 11,
   "metadata": {},
   "outputs": [],
   "source": [
    "order = 1\n",
    "t_max = 10.0\n",
    "computer = k_imp.ComputeChargeQDirect(anderson_param_A2, t_max, order, 'lorentzian', int(1e5))\n",
    "N_tot = 0"
   ]
  },
  {
   "cell_type": "code",
   "execution_count": 12,
   "metadata": {},
   "outputs": [],
   "source": [
    "integrand = computer.get_integrand()\n",
    "warper = computer.get_warper()"
   ]
  },
  {
   "cell_type": "code",
   "execution_count": 23,
   "metadata": {},
   "outputs": [],
   "source": [
    "result = []\n",
    "N_vec = []\n",
    "\n",
    "currN = 0"
   ]
  },
  {
   "cell_type": "code",
   "execution_count": 24,
   "metadata": {},
   "outputs": [],
   "source": [
    "for i in range(1000):\n",
    "    step = 1\n",
    "    computer.run(step)\n",
    "    currN += step\n",
    "    result.append((-1j)*(-1j)**order * computer.reduce_result() )\n",
    "    N_vec.append(currN)"
   ]
  },
  {
   "cell_type": "code",
   "execution_count": 25,
   "metadata": {},
   "outputs": [
    {
     "data": {
      "text/plain": [
       "1000"
      ]
     },
     "execution_count": 25,
     "metadata": {},
     "output_type": "execute_result"
    }
   ],
   "source": [
    "currN"
   ]
  },
  {
   "cell_type": "code",
   "execution_count": 53,
   "metadata": {},
   "outputs": [
    {
     "data": {
      "text/plain": [
       "[]"
      ]
     },
     "execution_count": 53,
     "metadata": {},
     "output_type": "execute_result"
    }
   ],
   "source": [
    "result"
   ]
  },
  {
   "cell_type": "code",
   "execution_count": 148,
   "metadata": {},
   "outputs": [
    {
     "data": {
      "text/plain": [
       "2"
      ]
     },
     "execution_count": 148,
     "metadata": {},
     "output_type": "execute_result"
    }
   ],
   "source": [
    "1+1"
   ]
  },
  {
   "cell_type": "code",
   "execution_count": null,
   "metadata": {},
   "outputs": [],
   "source": []
  },
  {
   "cell_type": "code",
   "execution_count": 117,
   "metadata": {},
   "outputs": [
    {
     "data": {
      "text/plain": [
       "-0.16471493664181"
      ]
     },
     "execution_count": 117,
     "metadata": {},
     "output_type": "execute_result"
    }
   ],
   "source": [
    "np.array(result).real[-1]"
   ]
  },
  {
   "cell_type": "code",
   "execution_count": 118,
   "metadata": {},
   "outputs": [
    {
     "data": {
      "image/png": "[encoded data removed]",
      "text/plain": [
       "<Figure size 1800x1200 with 1 Axes>"
      ]
     },
     "metadata": {
      "needs_background": "light"
     },
     "output_type": "display_data"
    }
   ],
   "source": [
    "fig = plt.figure(dpi=300)\n",
    "ax0 = plt.axes()\n",
    "\n",
    "\n",
    "ax0.plot(N_vec, np.abs(np.array(result).real - np.array(result).real[-1] ), linewidth=0.5, label=\"Data\")\n",
    "\n",
    "logscale_x = np.array([10**3, 10**7])\n",
    "logscale_y1 = np.array([10**-3, 10**-7])\n",
    "\n",
    "\n",
    "# ax0.plot(logscale_x, logscale_y1 * 100, c='red', label=\"$N^{-1}$\")\n",
    "# ax0.plot(logscale_x, np.sqrt(logscale_y1)  *3, c='k', label=\"$N^{-1/2}$\")\n",
    "\n",
    "ax0.set_xscale('log')\n",
    "ax0.set_yscale('log')\n",
    "\n",
    "ax0.set_title(r\"Covergence of Charge $Q$: Order {}\".format(order))\n",
    "ax0.set_xlabel(\"Nr. of Samples $N$\")\n",
    "\n",
    "ax0.legend()\n",
    "# plt.tight_layout()\n",
    "# plt.savefig(save_name + \"_krylov_normalization.pdf\", dpi=600)\n",
    "plt.show()\n",
    "plt.close()"
   ]
  },
  {
   "cell_type": "code",
   "execution_count": 43,
   "metadata": {},
   "outputs": [
    {
     "data": {
      "text/plain": [
       "(0.2850061020283006-8.6582114759719e-13j)"
      ]
     },
     "execution_count": 43,
     "metadata": {},
     "output_type": "execute_result"
    }
   ],
   "source": [
    "(-1j)*(-1j)**order * computer.reduce_result() "
   ]
  },
  {
   "cell_type": "code",
   "execution_count": 44,
   "metadata": {},
   "outputs": [
    {
     "data": {
      "text/plain": [
       "500000"
      ]
     },
     "execution_count": 44,
     "metadata": {},
     "output_type": "execute_result"
    }
   ],
   "source": [
    "computer.reduce_nr_points_run() "
   ]
  },
  {
   "cell_type": "code",
   "execution_count": 45,
   "metadata": {},
   "outputs": [],
   "source": [
    "result_1 = 0.37803751573267336\n",
    "result_2 = 0.285251918462279"
   ]
  },
  {
   "cell_type": "markdown",
   "metadata": {},
   "source": [
    "## Compare to Marjan"
   ]
  },
  {
   "cell_type": "code",
   "execution_count": 10,
   "metadata": {},
   "outputs": [],
   "source": [
    "g0 = k_imp.G0Model(anderson_param_A2)\n",
    "g0K = k_imp.G0KeldyshContourT(g0)"
   ]
  },
  {
   "cell_type": "code",
   "execution_count": 11,
   "metadata": {},
   "outputs": [
    {
     "data": {
      "text/plain": [
       "(-0.05098666668844833-0.080016436685713j)"
      ]
     },
     "execution_count": 11,
     "metadata": {},
     "output_type": "execute_result"
    }
   ],
   "source": [
    "g0.g0_greater[\"up\"](1.0)"
   ]
  },
  {
   "cell_type": "code",
   "execution_count": 14,
   "metadata": {},
   "outputs": [
    {
     "data": {
      "text/plain": [
       "Linear Mesh of size 1999999"
      ]
     },
     "execution_count": 14,
     "metadata": {},
     "output_type": "execute_result"
    }
   ],
   "source": [
    "g0.g0_greater.mesh"
   ]
  },
  {
   "cell_type": "markdown",
   "metadata": {},
   "source": [
    "### Sobol Generator"
   ]
  },
  {
   "cell_type": "code",
   "execution_count": 49,
   "metadata": {},
   "outputs": [],
   "source": [
    "order_dim = 2"
   ]
  },
  {
   "cell_type": "code",
   "execution_count": 50,
   "metadata": {},
   "outputs": [],
   "source": [
    "rng = k_imp.Sobol(order_dim, 0)"
   ]
  },
  {
   "cell_type": "code",
   "execution_count": 51,
   "metadata": {},
   "outputs": [],
   "source": [
    "rng.seed(0)"
   ]
  },
  {
   "cell_type": "code",
   "execution_count": 14,
   "metadata": {},
   "outputs": [
    {
     "data": {
      "text/plain": [
       "(-7.827488657241588e-12+0.013313176919940883j)"
      ]
     },
     "execution_count": 14,
     "metadata": {},
     "output_type": "execute_result"
    }
   ],
   "source": [
    "integrand([9, 8])"
   ]
  },
  {
   "cell_type": "code",
   "execution_count": 86,
   "metadata": {},
   "outputs": [
    {
     "data": {
      "text/plain": [
       "(-0.11034281308472933-3.23866003459905e-11j)"
      ]
     },
     "execution_count": 86,
     "metadata": {},
     "output_type": "execute_result"
    }
   ],
   "source": [
    "g_d1(k_imp.GfIndexT(10, 0, 1), k_imp.GfIndexT(10, 0, 0), 9)"
   ]
  },
  {
   "cell_type": "code",
   "execution_count": 66,
   "metadata": {},
   "outputs": [
    {
     "name": "stdout",
     "output_type": "stream",
     "text": [
      "[9.16666666666766, 8.333333333335322]\n",
      "([0.5, 0.5], (-1.0241252290654757e-11+0.033202491054353356j))\n",
      "[7.857142857144513, 7.563025210085904]\n",
      "([0.75, 0.25], (-3.976203394318034e-11+0.08015134555912495j))\n",
      "[9.70588235294139, 7.563025210085904]\n",
      "([0.25, 0.75], (-1.1953354972504826e-12+0.002147017535562068j))\n",
      "[9.482758620690205, 8.965517241380411]\n",
      "([0.375, 0.375], (-1.6155368709469542e-11+0.031996272196851305j))\n",
      "[6.111111111111356, 2.222222222222712]\n",
      "([0.875, 0.875], (2.0795743599366645e-12-0.0060473916886436j))\n",
      "[8.684210526317145, 8.556005398112104]\n",
      "([0.625, 0.125], (-4.44681236277944e-11+0.08955968462576225j))\n",
      "[9.87179487179496, 8.556005398112102]\n",
      "([0.125, 0.625], (-8.882478086391643e-13+0.0015985983870585585j))\n",
      "[9.794520547945355, 9.397695151120269]\n",
      "([0.1875, 0.3125], (-7.647230071405886e-12+0.015143557063486357j))\n",
      "[8.333333333335391, 5.5072463768159245]\n",
      "([0.6875, 0.8125], (-1.7122414597281477e-12+0.0035073439204104107j))\n",
      "[4.230769230770688, 4.170528266915307]\n",
      "([0.9375, 0.0625], (-1.0281001744383289e-11+0.022177060303631757j))\n",
      "[9.339622641510125, 8.293111013604399]\n",
      "([0.4375, 0.5625], (-1.104658031714223e-11+0.021708873911586324j))\n",
      "[9.603174603174914, 9.397695151120269]\n",
      "([0.3125, 0.1875], (-1.858488363204458e-11+0.0372522612219901j))\n",
      "[7.173913043480534, 5.507246376815924]\n",
      "([0.8125, 0.6875], (-7.439202032166747e-12+0.015252534647289095j))\n",
      "[8.953488372094274, 8.293111013604399]\n",
      "([0.5625, 0.4375], (-2.3339316590487158e-11+0.04638680678698359j))\n",
      "[9.939759036144618, 4.170528266915307]\n",
      "([0.0625, 0.9375], (-3.4725694542103724e-14+0.00015478963599269147j))\n",
      "[9.90683229813671, 9.164258040711776]\n",
      "([0.09375, 0.46875], (-1.668915006192151e-12+0.003214050978678329j))\n",
      "[8.827160493828607, 1.4462081128852633]\n",
      "([0.59375, 0.96875], (3.2690516960087734e-13-0.0016287225931493898j))\n",
      "[6.707317073172735, 6.459090122818308]\n",
      "([0.84375, 0.21875], (-2.6631780114527714e-11+0.0655500809206585j))\n",
      "[9.54545454545497, 7.66020864381734]\n",
      "([0.34375, 0.71875], (-2.958910894079736e-12+0.005608933069313593j))\n",
      "[9.257425742575066, 9.164258040711776]\n",
      "([0.46875, 0.09375], (-3.42589429047635e-11+0.06930657630481263j))\n"
     ]
    }
   ],
   "source": [
    "rng.seed(0)\n",
    "for i in range(20):\n",
    "    li = rng()\n",
    "    ui = warper.ui_from_li(li)\n",
    "    print(ui)\n",
    "    \n",
    "    integrand_eval = integrand(ui)\n",
    "        \n",
    "    print(li, integrand_eval)\n",
    "\n"
   ]
  },
  {
   "cell_type": "code",
   "execution_count": null,
   "metadata": {},
   "outputs": [],
   "source": []
  },
  {
   "cell_type": "code",
   "execution_count": null,
   "metadata": {},
   "outputs": [],
   "source": []
  },
  {
   "cell_type": "code",
   "execution_count": 35,
   "metadata": {},
   "outputs": [
    {
     "ename": "NameError",
     "evalue": "name 'ProfumaA1_Semicircle' is not defined",
     "output_type": "error",
     "traceback": [
      "\u001b[0;31m---------------------------------------------------------------------------\u001b[0m",
      "\u001b[0;31mNameError\u001b[0m                                 Traceback (most recent call last)",
      "\u001b[0;32m<ipython-input-35-04790c8eb28b>\u001b[0m in \u001b[0;36m<module>\u001b[0;34m()\u001b[0m\n\u001b[1;32m      5\u001b[0m     \u001b[0mvi\u001b[0m \u001b[0;34m=\u001b[0m \u001b[0mk_imp\u001b[0m\u001b[0;34m.\u001b[0m\u001b[0mvi_from_ui\u001b[0m\u001b[0;34m(\u001b[0m\u001b[0mt_max\u001b[0m\u001b[0;34m,\u001b[0m \u001b[0mui\u001b[0m\u001b[0;34m)\u001b[0m\u001b[0;34m\u001b[0m\u001b[0m\n\u001b[1;32m      6\u001b[0m \u001b[0;34m\u001b[0m\u001b[0m\n\u001b[0;32m----> 7\u001b[0;31m     \u001b[0mui_m\u001b[0m \u001b[0;34m=\u001b[0m \u001b[0mnp\u001b[0m\u001b[0;34m.\u001b[0m\u001b[0marray\u001b[0m\u001b[0;34m(\u001b[0m\u001b[0mProfumaA1_Semicircle\u001b[0m\u001b[0;34m)\u001b[0m\u001b[0;34m[\u001b[0m\u001b[0mi\u001b[0m\u001b[0;34m,\u001b[0m\u001b[0;36m8\u001b[0m\u001b[0;34m:\u001b[0m\u001b[0;36m12\u001b[0m\u001b[0;34m]\u001b[0m\u001b[0;34m\u001b[0m\u001b[0m\n\u001b[0m\u001b[1;32m      8\u001b[0m \u001b[0;34m\u001b[0m\u001b[0m\n\u001b[1;32m      9\u001b[0m \u001b[0;31m#     print( li, ui, np.sort(np.array(ProfumaA1_Semicircle)[i,8:12]))\u001b[0m\u001b[0;34m\u001b[0m\u001b[0;34m\u001b[0m\u001b[0m\n",
      "\u001b[0;31mNameError\u001b[0m: name 'ProfumaA1_Semicircle' is not defined"
     ]
    }
   ],
   "source": [
    "rng.seed(0)\n",
    "for i in range(23):\n",
    "    li = rng()\n",
    "    ui = warper.ui_from_li(li)\n",
    "    vi = k_imp.vi_from_ui(t_max, ui)\n",
    "    \n",
    "    ui_m = np.array(ProfumaA1_Semicircle)[i,8:12]\n",
    "    \n",
    "#     print( li, ui, np.sort(np.array(ProfumaA1_Semicircle)[i,8:12]))\n",
    "#     print( li, vi, np.array(ProfumaA1_Semicircle)[i,4:8])\n",
    "    \n",
    "    integrand_eval = integrand(ui_m)\n",
    "    print(li, integrand_eval.real - np.array(ProfumaA1_Semicircle)[i,12] *  np.array(ProfumaA1_Semicircle)[i,13])#, integrand_eval.imag - np.array(ProfumaA1_Semicircle)[i,12] *  np.array(ProfumaA1_Semicircle)[i,14])\n",
    "#     warper_eval = warper.evaluate_warping_function(ui_m)\n",
    "#     print(li, np.array(ProfumaA1_Semicircle)[i,15] / warper_eval)\n",
    "\n",
    "\n",
    "\n",
    "    "
   ]
  },
  {
   "cell_type": "code",
   "execution_count": 89,
   "metadata": {},
   "outputs": [],
   "source": [
    "ProfumoA1_Semicircle = np.genfromtxt(\"/Users/pdumitrescu/Documents/machine-learning-marjan2019/Data/ProfumoMethod/ProfumoA1_DataPoints.dat\")"
   ]
  },
  {
   "cell_type": "code",
   "execution_count": 90,
   "metadata": {},
   "outputs": [
    {
     "ename": "NameError",
     "evalue": "name 'ProfumaA1_Semicircle' is not defined",
     "output_type": "error",
     "traceback": [
      "\u001b[0;31m---------------------------------------------------------------------------\u001b[0m",
      "\u001b[0;31mNameError\u001b[0m                                 Traceback (most recent call last)",
      "\u001b[0;32m<ipython-input-90-a039f2c30164>\u001b[0m in \u001b[0;36m<module>\u001b[0;34m()\u001b[0m\n\u001b[0;32m----> 1\u001b[0;31m \u001b[0mProfumaA1_Semicircle\u001b[0m\u001b[0;34m[\u001b[0m\u001b[0;36m1\u001b[0m\u001b[0;34m,\u001b[0m\u001b[0;34m:\u001b[0m\u001b[0;34m]\u001b[0m\u001b[0;34m\u001b[0m\u001b[0m\n\u001b[0m",
      "\u001b[0;31mNameError\u001b[0m: name 'ProfumaA1_Semicircle' is not defined"
     ]
    }
   ],
   "source": [
    "ProfumaA1_Semicircle[1,:]"
   ]
  },
  {
   "cell_type": "code",
   "execution_count": 60,
   "metadata": {},
   "outputs": [
    {
     "data": {
      "text/plain": [
       "0j"
      ]
     },
     "execution_count": 60,
     "metadata": {},
     "output_type": "execute_result"
    }
   ],
   "source": []
  },
  {
   "cell_type": "code",
   "execution_count": 85,
   "metadata": {},
   "outputs": [],
   "source": [
    "def g_d1(kI1, kI2, ti1):\n",
    "    k_ti1_u_p = k_imp.GfIndexT(ti1, 0, 0)\n",
    "    k_ti1_u_m = k_imp.GfIndexT(ti1, 0, 1)\n",
    "    k_ti1_d_p = k_imp.GfIndexT(ti1, 1, 0)\n",
    "    k_ti1_d_m = k_imp.GfIndexT(ti1, 1, 1)\n",
    "\n",
    "    diag1 = - (-1) * g0K(kI1, k_ti1_u_m, True) * g0K(k_ti1_u_m, kI2, True) * g0K(k_ti1_d_m, k_ti1_d_m, True) \n",
    "    diag2 = - (+1) * g0K(kI1, k_ti1_u_p, True) * g0K(k_ti1_u_p, kI2, True) * g0K(k_ti1_d_p, k_ti1_d_p, True) \n",
    "    return  (diag1 + diag2)\n",
    "\n",
    "def g_d2(kI1, kI2, ti1, ti2):\n",
    "    k_ti1_u_p = k_imp.GfIndexT(ti1, 0, 0)\n",
    "    k_ti1_u_m = k_imp.GfIndexT(ti1, 0, 1)\n",
    "    k_ti1_d_p = k_imp.GfIndexT(ti1, 1, 0)\n",
    "    k_ti1_d_m = k_imp.GfIndexT(ti1, 1, 1)\n",
    "\n",
    "    k_ti2_u_p = k_imp.GfIndexT(ti2, 0, 0)\n",
    "    k_ti2_u_m = k_imp.GfIndexT(ti2, 0, 1)\n",
    "    k_ti2_d_p = k_imp.GfIndexT(ti2, 1, 0)\n",
    "    k_ti2_d_m = k_imp.GfIndexT(ti2, 1, 1)\n",
    "\n",
    "\n",
    "    diag1a = (-1)**2 * (g0K(kI1, k_ti1_u_m, True) * g0K(k_ti1_u_m, k_ti2_u_m, True) * g0K(k_ti2_u_m, kI2, True)) * ( g0K(k_ti1_d_m, k_ti1_d_m, True) * g0K(k_ti2_d_m, k_ti2_d_m, True) - g0K(k_ti1_d_m, k_ti2_d_m, True) * g0K(k_ti2_d_m, k_ti1_d_m, True) )  \n",
    "    diag2a = (-1)**1 * (g0K(kI1, k_ti1_u_m, True) * g0K(k_ti1_u_m, k_ti2_u_p, True) * g0K(k_ti2_u_p, kI2, True)) * ( g0K(k_ti1_d_m, k_ti1_d_m, True) * g0K(k_ti2_d_p, k_ti2_d_p, True) - g0K(k_ti1_d_m, k_ti2_d_p, True) * g0K(k_ti2_d_p, k_ti1_d_m, True) )\n",
    "    diag3a = (-1)**1 * (g0K(kI1, k_ti1_u_p, True) * g0K(k_ti1_u_p, k_ti2_u_m, True) * g0K(k_ti2_u_m, kI2, True)) * ( g0K(k_ti1_d_p, k_ti1_d_p, True) * g0K(k_ti2_d_m, k_ti2_d_m, True) - g0K(k_ti1_d_p, k_ti2_d_m, True) * g0K(k_ti2_d_m, k_ti1_d_p, True) )\n",
    "    diag4a = (-1)**0 * (g0K(kI1, k_ti1_u_p, True) * g0K(k_ti1_u_p, k_ti2_u_p, True) * g0K(k_ti2_u_p, kI2, True)) * ( g0K(k_ti1_d_p, k_ti1_d_p, True) * g0K(k_ti2_d_p, k_ti2_d_p, True) - g0K(k_ti1_d_p, k_ti2_d_p, True) * g0K(k_ti2_d_p, k_ti1_d_p, True) )\n",
    "    \n",
    "    diagA = (diag1a +  diag2a + diag3a + diag4a)\n",
    "    \n",
    "    diag1b = (-1)**2 * (g0K(kI1, k_ti2_u_m, True) * g0K(k_ti2_u_m, k_ti1_u_m, True) * g0K(k_ti1_u_m, kI2, True)) * ( g0K(k_ti2_d_m, k_ti2_d_m, True) * g0K(k_ti1_d_m, k_ti1_d_m, True) - g0K(k_ti1_d_m, k_ti2_d_m, True) * g0K(k_ti2_d_m, k_ti1_d_m, True) )  \n",
    "    diag2b = (-1)**1 * (g0K(kI1, k_ti2_u_m, True) * g0K(k_ti2_u_m, k_ti1_u_p, True) * g0K(k_ti1_u_p, kI2, True)) * ( g0K(k_ti2_d_m, k_ti2_d_m, True) * g0K(k_ti1_d_p, k_ti1_d_p, True) - g0K(k_ti1_d_p, k_ti2_d_m, True) * g0K(k_ti2_d_m, k_ti1_d_p, True) )\n",
    "    diag3b = (-1)**1 * (g0K(kI1, k_ti2_u_p, True) * g0K(k_ti2_u_p, k_ti1_u_m, True) * g0K(k_ti1_u_m, kI2, True)) * ( g0K(k_ti2_d_p, k_ti2_d_p, True) * g0K(k_ti1_d_m, k_ti1_d_m, True) - g0K(k_ti1_d_m, k_ti2_d_p, True) * g0K(k_ti2_d_p, k_ti1_d_m, True) )\n",
    "    diag4b = (-1)**0 * (g0K(kI1, k_ti2_u_p, True) * g0K(k_ti2_u_p, k_ti1_u_p, True) * g0K(k_ti1_u_p, kI2, True)) * ( g0K(k_ti2_d_p, k_ti2_d_p, True) * g0K(k_ti1_d_p, k_ti1_d_p, True) - g0K(k_ti1_d_p, k_ti2_d_p, True) * g0K(k_ti2_d_p, k_ti1_d_p, True) )\n",
    "\n",
    "    diagB = (diag1b +  diag2b + diag3b + diag4b)\n",
    "\n",
    "\n",
    "\n",
    "    diag1c = - (-1)**2 * (g0K(kI1, kI2, True) * g0K(k_ti2_u_m, k_ti1_u_m, True) * g0K(k_ti1_u_m, k_ti2_u_m, True)) * ( g0K(k_ti2_d_m, k_ti2_d_m, True) * g0K(k_ti1_d_m, k_ti1_d_m, True) - g0K(k_ti1_d_m, k_ti2_d_m, True) * g0K(k_ti2_d_m, k_ti1_d_m, True) )  \n",
    "    diag2c = - (-1)**1 * (g0K(kI1, kI2, True) * g0K(k_ti2_u_m, k_ti1_u_p, True) * g0K(k_ti1_u_p, k_ti2_u_m, True)) * ( g0K(k_ti2_d_m, k_ti2_d_m, True) * g0K(k_ti1_d_p, k_ti1_d_p, True) - g0K(k_ti1_d_p, k_ti2_d_m, True) * g0K(k_ti2_d_m, k_ti1_d_p, True) )\n",
    "    diag3c = - (-1)**1 * (g0K(kI1, kI2, True) * g0K(k_ti2_u_p, k_ti1_u_m, True) * g0K(k_ti1_u_m, k_ti2_u_p, True)) * ( g0K(k_ti2_d_p, k_ti2_d_p, True) * g0K(k_ti1_d_m, k_ti1_d_m, True) - g0K(k_ti1_d_m, k_ti2_d_p, True) * g0K(k_ti2_d_p, k_ti1_d_m, True) )\n",
    "    diag4c = - (-1)**0 * (g0K(kI1, kI2, True) * g0K(k_ti2_u_p, k_ti1_u_p, True) * g0K(k_ti1_u_p, k_ti2_u_p, True)) * ( g0K(k_ti2_d_p, k_ti2_d_p, True) * g0K(k_ti1_d_p, k_ti1_d_p, True) - g0K(k_ti1_d_p, k_ti2_d_p, True) * g0K(k_ti2_d_p, k_ti1_d_p, True) )\n",
    "\n",
    "    diag1d = (-1)**2 * (g0K(kI1, kI2, True) * g0K(k_ti1_u_m, k_ti1_u_m, True) * g0K(k_ti2_u_m, k_ti2_u_m, True)) * ( g0K(k_ti2_d_m, k_ti2_d_m, True) * g0K(k_ti1_d_m, k_ti1_d_m, True) - g0K(k_ti1_d_m, k_ti2_d_m, True) * g0K(k_ti2_d_m, k_ti1_d_m, True) )  \n",
    "    diag2d = (-1)**1 * (g0K(kI1, kI2, True) * g0K(k_ti1_u_p, k_ti1_u_p, True) * g0K(k_ti2_u_m, k_ti2_u_m, True)) * ( g0K(k_ti2_d_m, k_ti2_d_m, True) * g0K(k_ti1_d_p, k_ti1_d_p, True) - g0K(k_ti1_d_m, k_ti2_d_p, True) * g0K(k_ti2_d_p, k_ti1_d_m, True) )\n",
    "    diag3d = (-1)**1 * (g0K(kI1, kI2, True) * g0K(k_ti1_u_m, k_ti1_u_m, True) * g0K(k_ti2_u_p, k_ti2_u_p, True)) * ( g0K(k_ti2_d_p, k_ti2_d_p, True) * g0K(k_ti1_d_m, k_ti1_d_m, True) - g0K(k_ti1_d_p, k_ti2_d_m, True) * g0K(k_ti2_d_m, k_ti1_d_p, True) )\n",
    "    diag4d = (-1)**0 * (g0K(kI1, kI2, True) * g0K(k_ti1_u_p, k_ti1_u_p, True) * g0K(k_ti2_u_p, k_ti2_u_p, True)) * ( g0K(k_ti2_d_p, k_ti2_d_p, True) * g0K(k_ti1_d_p, k_ti1_d_p, True) - g0K(k_ti1_d_p, k_ti2_d_p, True) * g0K(k_ti2_d_p, k_ti1_d_p, True) )\n",
    "\n",
    "    diagC = (diag1c +  diag2c + diag3c + diag4c)\n",
    "\n",
    "    diagD = (diag1d +  diag2d + diag3d + diag4d)\n",
    "\n",
    "    diag1e = - (-1)**2 * (g0K(kI1, k_ti1_u_m, True) * g0K(k_ti1_u_m, kI2, True) * g0K(k_ti2_u_m, k_ti2_u_m, True)) * ( g0K(k_ti2_d_m, k_ti2_d_m, True) * g0K(k_ti1_d_m, k_ti1_d_m, True) - g0K(k_ti1_d_m, k_ti2_d_m, True) * g0K(k_ti2_d_m, k_ti1_d_m, True) )  \n",
    "    diag2e = - (-1)**1 * (g0K(kI1, k_ti1_u_p, True) * g0K(k_ti1_u_p, kI2, True) * g0K(k_ti2_u_m, k_ti2_u_m, True)) * ( g0K(k_ti2_d_m, k_ti2_d_m, True) * g0K(k_ti1_d_p, k_ti1_d_p, True) - g0K(k_ti1_d_p, k_ti2_d_m, True) * g0K(k_ti2_d_m, k_ti1_d_p, True) )\n",
    "    diag3e = - (-1)**1 * (g0K(kI1, k_ti1_u_m, True) * g0K(k_ti1_u_m, kI2, True) * g0K(k_ti2_u_p, k_ti2_u_p, True)) * ( g0K(k_ti2_d_p, k_ti2_d_p, True) * g0K(k_ti1_d_m, k_ti1_d_m, True) - g0K(k_ti1_d_m, k_ti2_d_p, True) * g0K(k_ti2_d_p, k_ti1_d_m, True) )\n",
    "    diag4e = - (-1)**0 * (g0K(kI1, k_ti1_u_p, True) * g0K(k_ti1_u_p, kI2, True) * g0K(k_ti2_u_p, k_ti2_u_p, True)) * ( g0K(k_ti2_d_p, k_ti2_d_p, True) * g0K(k_ti1_d_p, k_ti1_d_p, True) - g0K(k_ti1_d_p, k_ti2_d_p, True) * g0K(k_ti2_d_p, k_ti1_d_p, True) )\n",
    "\n",
    "    diagE = (diag1e +  diag2e + diag3e + diag4e)\n",
    "\n",
    "  \n",
    "    diag1f = - (-1)**2 * (g0K(kI1, k_ti2_u_m, True) * g0K(k_ti2_u_m, kI2, True) * g0K(k_ti1_u_m, k_ti1_u_m, True)) * ( g0K(k_ti2_d_m, k_ti2_d_m, True) * g0K(k_ti1_d_m, k_ti1_d_m, True) - g0K(k_ti1_d_m, k_ti2_d_m, True) * g0K(k_ti2_d_m, k_ti1_d_m, True) )  \n",
    "    diag2f = - (-1)**1 * (g0K(kI1, k_ti2_u_m, True) * g0K(k_ti2_u_m, kI2, True) * g0K(k_ti1_u_p, k_ti1_u_p, True)) * ( g0K(k_ti2_d_m, k_ti2_d_m, True) * g0K(k_ti1_d_p, k_ti1_d_p, True) - g0K(k_ti1_d_p, k_ti2_d_m, True) * g0K(k_ti2_d_m, k_ti1_d_p, True) )\n",
    "    diag3f = - (-1)**1 * (g0K(kI1, k_ti2_u_p, True) * g0K(k_ti2_u_p, kI2, True) * g0K(k_ti1_u_m, k_ti1_u_m, True)) * ( g0K(k_ti2_d_p, k_ti2_d_p, True) * g0K(k_ti1_d_m, k_ti1_d_m, True) - g0K(k_ti1_d_m, k_ti2_d_p, True) * g0K(k_ti2_d_p, k_ti1_d_m, True) )\n",
    "    diag4f = - (-1)**0 * (g0K(kI1, k_ti2_u_p, True) * g0K(k_ti2_u_p, kI2, True) * g0K(k_ti1_u_p, k_ti1_u_p, True)) * ( g0K(k_ti2_d_p, k_ti2_d_p, True) * g0K(k_ti1_d_p, k_ti1_d_p, True) - g0K(k_ti1_d_p, k_ti2_d_p, True) * g0K(k_ti2_d_p, k_ti1_d_p, True) )\n",
    "\n",
    "    diagF = (diag1f +  diag2f + diag3f + diag4f)\n",
    "    \n",
    "    \n",
    "    print(list(np.round([diagA, diagB, diagC, diagD, diagE, diagF], 16)))\n",
    "\n",
    "\n",
    "\n",
    "    return (diagA + diagB + diagC +  diagD + diagE + diagF)\n",
    "\n",
    "\n",
    "\n"
   ]
  },
  {
   "cell_type": "markdown",
   "metadata": {},
   "source": [
    "## Plot Integrand"
   ]
  },
  {
   "cell_type": "code",
   "execution_count": 29,
   "metadata": {},
   "outputs": [],
   "source": [
    "t_max = 10.0"
   ]
  },
  {
   "cell_type": "markdown",
   "metadata": {},
   "source": [
    "### Order 1"
   ]
  },
  {
   "cell_type": "code",
   "execution_count": 30,
   "metadata": {},
   "outputs": [],
   "source": [
    "t = np.linspace(0.0,10.0,251)\n",
    "t_list = [list([t0]) for t0 in t]\n",
    "W_order1 = np.array(map(warper.evaluate_warping_function, t_list))"
   ]
  },
  {
   "cell_type": "code",
   "execution_count": 31,
   "metadata": {},
   "outputs": [
    {
     "data": {
      "image/png": "[encoded data removed]",
      "text/plain": [
       "<Figure size 1080x360 with 1 Axes>"
      ]
     },
     "metadata": {
      "needs_background": "light"
     },
     "output_type": "display_data"
    }
   ],
   "source": [
    "fig = plt.figure(figsize=(15,5))\n",
    "ax0 = plt.subplot(1,1,1)\n",
    "ax0.plot(t, W_order1.real, marker='o', markersize=2, linewidth=0.5, color='red')\n",
    "ax0.plot(t, W_order1.imag, marker='o', markersize=2, linewidth=0.5, color='orange')\n",
    "plt.show()"
   ]
  },
  {
   "cell_type": "markdown",
   "metadata": {},
   "source": [
    "### Order 2"
   ]
  },
  {
   "cell_type": "code",
   "execution_count": 32,
   "metadata": {},
   "outputs": [],
   "source": [
    "u_list_p = []\n",
    "u_list = []\n",
    "v_list = []\n",
    "\n",
    "nr_sample_edge = 250\n",
    "delta_t = 10.0 / nr_sample_edge\n",
    "\n",
    "for i_t1 in range(nr_sample_edge + 1):\n",
    "    for i_t2 in range(nr_sample_edge + 1):\n",
    "        times = np.array([delta_t * i_t1, delta_t * i_t2])\n",
    "        times = np.sort(times)[::-1]\n",
    "        u_list.append(times)\n",
    "        v_list.append(k_imp.vi_from_ui(t_max, times))\n",
    "\n",
    "g_order2_i = np.array(map(integrand, u_list))\n",
    "g_order2_w = np.array(map(warper.evaluate_warping_function, u_list))"
   ]
  },
  {
   "cell_type": "code",
   "execution_count": 97,
   "metadata": {},
   "outputs": [
    {
     "data": {
      "image/png": "[encoded data removed]",
      "text/plain": [
       "<Figure size 1152x576 with 4 Axes>"
      ]
     },
     "metadata": {
      "needs_background": "light"
     },
     "output_type": "display_data"
    }
   ],
   "source": [
    "from scipy.interpolate import griddata\n",
    "\n",
    "fig = plt.figure(figsize=(16,8))\n",
    "\n",
    "x = np.array(u_list)[:,0]\n",
    "y = np.array(u_list)[:,1]\n",
    "z = np.abs(g_order2_i)\n",
    "\n",
    "xi = np.linspace(0.0,10.0,500)\n",
    "yi = np.linspace(0.0,10.0,500)\n",
    "zi = griddata((x, y), z, (xi[None,:], yi[:,None]), method='cubic')\n",
    "\n",
    "plt.subplot(1,2,1)\n",
    "plt.contourf(xi,yi,zi, 100,vmin=z.min(), vmax=z.max())\n",
    "plt.colorbar() # draw colorbar\n",
    "\n",
    "x = np.array(v_list)[:,0]\n",
    "y = np.array(v_list)[:,1]\n",
    "z = np.abs(g_order2_w)\n",
    "\n",
    "xi = np.linspace(0.0,10.0,500)\n",
    "yi = np.linspace(0.0,10.0,500)\n",
    "zi = griddata((x, y), z, (xi[None,:], yi[:,None]), method='cubic')\n",
    "\n",
    "plt.subplot(1,2,2)\n",
    "plt.contourf(xi,yi,zi, 100,vmin=z.min(), vmax=z.max())\n",
    "plt.colorbar() # draw colorbar\n",
    "\n",
    "\n",
    "plt.show()"
   ]
  },
  {
   "cell_type": "code",
   "execution_count": null,
   "metadata": {},
   "outputs": [],
   "source": []
  },
  {
   "cell_type": "code",
   "execution_count": 46,
   "metadata": {},
   "outputs": [],
   "source": [
    "# t = np.linspace(0.0,10.0,251)\n",
    "# t_list = [list([t0, t0]) for t0 in t]\n",
    "\n",
    "# W_order2_diag = np.array(map(computer.integrand, t_list))\n",
    "\n",
    "# fig = plt.figure(figsize=(15,5))\n",
    "# ax0 = plt.subplot(1,1,1)\n",
    "# ax0.plot(t, W_order2_diag.real, marker='o', markersize=2, linewidth=0.5, color='red')\n",
    "# ax0.plot(t, W_order2_diag.imag, marker='o', markersize=2, linewidth=0.5, color='orange')\n",
    "# plt.show()"
   ]
  },
  {
   "cell_type": "markdown",
   "metadata": {},
   "source": [
    "## SciPy Integral"
   ]
  },
  {
   "cell_type": "code",
   "execution_count": 47,
   "metadata": {},
   "outputs": [],
   "source": [
    "def lim0():\n",
    "    return [0, 10.0]\n",
    "\n",
    "def lim1(t1):\n",
    "    return [0, t1]\n",
    "\n",
    "def lim2(t1, t2):\n",
    "    return [0, t2]\n",
    "\n",
    "result_1_sp = sp.integrate.nquad(lambda x: computer.integrand([x]).real, [lim0], opts={'limit': 1000}, full_output=True)\n",
    "result_2_sp = sp.integrate.nquad(lambda x, y: computer.integrand([x, y]).imag, [lim1, lim0], opts={'limit': 1000}, full_output=True)\n",
    "# result_3_sp = sp.integrate.nquad(lambda x, y, z: my_integrand([x, y, z]).real, [lim2, lim1, lim0], opts={'limit': 50}, full_output=True)\n"
   ]
  },
  {
   "cell_type": "code",
   "execution_count": 48,
   "metadata": {},
   "outputs": [
    {
     "name": "stdout",
     "output_type": "stream",
     "text": [
      "Order 1: (-0.18157328685641913, 2.3575981097923027e-09, {'neval': 63})\n",
      "Order 2: (1.6315647010411563, 1.4869438519640528e-08, {'neval': 4893})\n"
     ]
    }
   ],
   "source": [
    "print \"Order 1:\", result_1_sp\n",
    "print \"Order 2:\", result_2_sp"
   ]
  },
  {
   "cell_type": "code",
   "execution_count": 49,
   "metadata": {},
   "outputs": [
    {
     "ename": "NameError",
     "evalue": "name 'result_1' is not defined",
     "output_type": "error",
     "traceback": [
      "\u001b[0;31m---------------------------------------------------------------------------\u001b[0m",
      "\u001b[0;31mNameError\u001b[0m                                 Traceback (most recent call last)",
      "\u001b[0;32m<ipython-input-49-2d7260a5e139>\u001b[0m in \u001b[0;36m<module>\u001b[0;34m()\u001b[0m\n\u001b[0;32m----> 1\u001b[0;31m \u001b[0;32mprint\u001b[0m \u001b[0mresult_1\u001b[0m \u001b[0;34m+\u001b[0m \u001b[0mresult_1_sp\u001b[0m\u001b[0;34m[\u001b[0m\u001b[0;36m0\u001b[0m\u001b[0;34m]\u001b[0m\u001b[0;34m\u001b[0m\u001b[0m\n\u001b[0m\u001b[1;32m      2\u001b[0m \u001b[0;32mprint\u001b[0m \u001b[0mresult_2\u001b[0m \u001b[0;34m+\u001b[0m \u001b[0mresult_2_sp\u001b[0m\u001b[0;34m[\u001b[0m\u001b[0;36m0\u001b[0m\u001b[0;34m]\u001b[0m\u001b[0;34m\u001b[0m\u001b[0m\n",
      "\u001b[0;31mNameError\u001b[0m: name 'result_1' is not defined"
     ]
    }
   ],
   "source": [
    "print result_1 + result_1_sp[0]\n",
    "print result_2 + result_2_sp[0]"
   ]
  },
  {
   "cell_type": "code",
   "execution_count": 50,
   "metadata": {},
   "outputs": [],
   "source": [
    "## Cuba Evaluation"
   ]
  },
  {
   "cell_type": "code",
   "execution_count": null,
   "metadata": {},
   "outputs": [],
   "source": []
  },
  {
   "cell_type": "code",
   "execution_count": null,
   "metadata": {},
   "outputs": [],
   "source": []
  },
  {
   "cell_type": "code",
   "execution_count": null,
   "metadata": {},
   "outputs": [],
   "source": []
  },
  {
   "cell_type": "code",
   "execution_count": null,
   "metadata": {},
   "outputs": [],
   "source": []
  },
  {
   "cell_type": "code",
   "execution_count": null,
   "metadata": {},
   "outputs": [],
   "source": []
  },
  {
   "cell_type": "markdown",
   "metadata": {},
   "source": [
    "### Cubature Evaulation"
   ]
  },
  {
   "cell_type": "code",
   "execution_count": 52,
   "metadata": {},
   "outputs": [],
   "source": [
    "from cubature import cubature# S.Johnson package # https://github.com/saullocastro/cubature"
   ]
  },
  {
   "cell_type": "code",
   "execution_count": 185,
   "metadata": {},
   "outputs": [
    {
     "name": "stdout",
     "output_type": "stream",
     "text": [
      "-0.3780374601590787 , 1.0386247417670802e-11\n"
     ]
    }
   ],
   "source": [
    "#Order 1\n",
    "\n",
    "def order_1_vectorize(t):\n",
    "    t_list = [list(t0) for t0 in t]\n",
    "    out = np.transpose(np.array([map(computer.integrand, t_list)]))\n",
    "    return np.real(out[:,0])\n",
    "\n",
    "xmin = [ 0.0]\n",
    "xmax = [10.0 - 1e-10]\n",
    "result_1_cub_val, result_1_cub_err = cubature(order_1_vectorize, 1, 1, xmin, xmax, vectorized=True, abserr=1e-10, relerr=1e-10, adaptive='p')\n",
    "print result_1_cub_val[0], \",\", result_1_cub_err[0]"
   ]
  },
  {
   "cell_type": "code",
   "execution_count": 186,
   "metadata": {},
   "outputs": [
    {
     "name": "stdout",
     "output_type": "stream",
     "text": [
      "5.5573594670565996e-08\n"
     ]
    }
   ],
   "source": [
    "print result_1 + result_1_cub_val[0]"
   ]
  },
  {
   "cell_type": "code",
   "execution_count": null,
   "metadata": {},
   "outputs": [],
   "source": [
    "def my_integrand_order2_scaled(t):\n",
    "    return t[0] * computer.integrand([t[0], t[0] * t[1]])\n",
    "\n",
    "\n",
    "def order_2_scalar(t):\n",
    "    t_list = [list(t0) for t0 in list(t)]\n",
    "    out = np.imag(t[:, 0] * np.transpose(np.array([map(my_integrand_order2_scaled, t_list)])))\n",
    "    return out[:,0]\n",
    "#     return np.imag(t[0] * my_integrand([t[0], t[0] * t[1]]))\n",
    "\n",
    "xmin = [0.0, 0.0]\n",
    "xmax = [10.0, 1.0]\n",
    "result_2_cub_val, result_2_cub_err = cubature(order_2_scalar, 2, 1, xmin, xmax, vectorized=True, abserr=1e-4, relerr=1e-4, adaptive='p')\n",
    "print result_2_cub_val[0], \",\", result_2_cub_err[0]"
   ]
  },
  {
   "cell_type": "code",
   "execution_count": null,
   "metadata": {},
   "outputs": [],
   "source": [
    "print result_2 + result_2_cub_val[0]"
   ]
  },
  {
   "cell_type": "code",
   "execution_count": null,
   "metadata": {},
   "outputs": [],
   "source": []
  },
  {
   "cell_type": "code",
   "execution_count": null,
   "metadata": {},
   "outputs": [],
   "source": []
  },
  {
   "cell_type": "code",
   "execution_count": null,
   "metadata": {},
   "outputs": [],
   "source": []
  },
  {
   "cell_type": "code",
   "execution_count": null,
   "metadata": {},
   "outputs": [],
   "source": []
  },
  {
   "cell_type": "code",
   "execution_count": null,
   "metadata": {},
   "outputs": [],
   "source": []
  },
  {
   "cell_type": "code",
   "execution_count": 48,
   "metadata": {},
   "outputs": [
    {
     "name": "stdout",
     "output_type": "stream",
     "text": [
      "_________________\n",
      "\n",
      "Rectangle\n"
     ]
    },
    {
     "ename": "NameError",
     "evalue": "name 'cubature' is not defined",
     "output_type": "error",
     "traceback": [
      "\u001b[0;31m---------------------------------------------------------------------------\u001b[0m",
      "\u001b[0;31mNameError\u001b[0m                                 Traceback (most recent call last)",
      "\u001b[0;32m<ipython-input-48-8b6b3ccaea5a>\u001b[0m in \u001b[0;36m<module>\u001b[0;34m()\u001b[0m\n\u001b[1;32m     24\u001b[0m \u001b[0mxmin\u001b[0m \u001b[0;34m=\u001b[0m \u001b[0;34m[\u001b[0m\u001b[0;36m0\u001b[0m\u001b[0;34m,\u001b[0m \u001b[0;36m0\u001b[0m\u001b[0;34m]\u001b[0m\u001b[0;34m\u001b[0m\u001b[0m\n\u001b[1;32m     25\u001b[0m \u001b[0mxmax\u001b[0m \u001b[0;34m=\u001b[0m \u001b[0;34m[\u001b[0m\u001b[0ma\u001b[0m\u001b[0;34m,\u001b[0m \u001b[0mb\u001b[0m\u001b[0;34m]\u001b[0m\u001b[0;34m\u001b[0m\u001b[0m\n\u001b[0;32m---> 26\u001b[0;31m \u001b[0mval\u001b[0m\u001b[0;34m,\u001b[0m \u001b[0merr\u001b[0m \u001b[0;34m=\u001b[0m \u001b[0mcubature\u001b[0m\u001b[0;34m(\u001b[0m\u001b[0mintegrand_rectangle\u001b[0m\u001b[0;34m,\u001b[0m \u001b[0;36m2\u001b[0m\u001b[0;34m,\u001b[0m \u001b[0;36m1\u001b[0m\u001b[0;34m,\u001b[0m \u001b[0mxmin\u001b[0m\u001b[0;34m,\u001b[0m \u001b[0mxmax\u001b[0m\u001b[0;34m)\u001b[0m\u001b[0;34m\u001b[0m\u001b[0m\n\u001b[0m\u001b[1;32m     27\u001b[0m \u001b[0;32mprint\u001b[0m\u001b[0;34m(\u001b[0m\u001b[0;34m'Approximated: {0}'\u001b[0m\u001b[0;34m.\u001b[0m\u001b[0mformat\u001b[0m\u001b[0;34m(\u001b[0m\u001b[0mval\u001b[0m\u001b[0;34m)\u001b[0m\u001b[0;34m)\u001b[0m\u001b[0;34m\u001b[0m\u001b[0m\n\u001b[1;32m     28\u001b[0m \u001b[0;32mprint\u001b[0m\u001b[0;34m(\u001b[0m\u001b[0;34m'Exact: {0}'\u001b[0m\u001b[0;34m.\u001b[0m\u001b[0mformat\u001b[0m\u001b[0;34m(\u001b[0m\u001b[0mexact_rectangle\u001b[0m\u001b[0;34m(\u001b[0m\u001b[0ma\u001b[0m\u001b[0;34m,\u001b[0m \u001b[0mb\u001b[0m\u001b[0;34m)\u001b[0m\u001b[0;34m)\u001b[0m\u001b[0;34m)\u001b[0m\u001b[0;34m\u001b[0m\u001b[0m\n",
      "\u001b[0;31mNameError\u001b[0m: name 'cubature' is not defined"
     ]
    }
   ],
   "source": [
    "def integrand_rectangle(x_array):\n",
    "    return 1.\n",
    "\n",
    "def integrand_rectangle_v(x_array):\n",
    "    return np.ones_like(x_array[:, 0])\n",
    "\n",
    "def integrand_circle(x_array):\n",
    "    return x_array[0]\n",
    "\n",
    "def integrand_circle_v(x_array):\n",
    "    return x_array[:, 0]\n",
    "\n",
    "def exact_rectangle(a, b):\n",
    "    return a*b\n",
    "\n",
    "def exact_circle(r):\n",
    "    return math.pi*r**2\n",
    "\n",
    "# rectangle\n",
    "print('_________________')\n",
    "print('')\n",
    "print('Rectangle')\n",
    "a, b = 3, 5\n",
    "xmin = [0, 0]\n",
    "xmax = [a, b]\n",
    "val, err = cubature(integrand_rectangle, 2, 1, xmin, xmax)\n",
    "print('Approximated: {0}'.format(val))\n",
    "print('Exact: {0}'.format(exact_rectangle(a, b)))\n",
    "# rectangle (vectorized)\n",
    "print('_________________')\n",
    "print('')\n",
    "print('Rectangle (vectorized)')\n",
    "a, b = 3, 5\n",
    "xmin = [0, 0]\n",
    "xmax = [a, b]\n",
    "val, err = cubature(integrand_rectangle_v, 2, 1, xmin, xmax, vectorized=True)\n",
    "print('Approximated: {0}'.format(val))\n",
    "print('Exact: {0}'.format(exact_rectangle(a, b)))\n",
    "# circle\n",
    "print('_________________')\n",
    "print('')\n",
    "print('Circle')\n",
    "r = 3.\n",
    "xmin = [0, 0]\n",
    "xmax = [r, 2*math.pi]\n",
    "val, err = cubature(integrand_circle, 2, 1, xmin, xmax)\n",
    "print('Approximated: {0}'.format(val))\n",
    "print('Exact: {0}'.format(exact_circle(r)))\n",
    "print('_________________')\n",
    "# circle (vectorized)\n",
    "print('_________________')\n",
    "print('')\n",
    "print('Circle (vectorized)')\n",
    "r = 3.\n",
    "xmin = [0, 0]\n",
    "xmax = [r, 2*math.pi]\n",
    "val, err = cubature(integrand_circle_v, 2, 1, xmin, xmax, vectorized=True)\n",
    "print('Approximated: {0}'.format(val))\n",
    "print('Exact: {0}'.format(exact_circle(r)))\n",
    "print('_________________')\n"
   ]
  },
  {
   "cell_type": "markdown",
   "metadata": {},
   "source": [
    "## Factorial vs Power Nr of Operations"
   ]
  },
  {
   "cell_type": "code",
   "execution_count": 17,
   "metadata": {},
   "outputs": [
    {
     "data": {
      "image/png": "[encoded data removed]",
      "text/plain": [
       "<matplotlib.figure.Figure at 0x12f96c410>"
      ]
     },
     "metadata": {
      "needs_background": "light"
     },
     "output_type": "display_data"
    }
   ],
   "source": [
    "## Figure out exact FLOP scaling\n",
    "\n",
    "x = np.linspace(1,16,16, dtype=int)\n",
    "y_fac = map(np.math.factorial, x)#.linspace(1,10,10, dtype=int)\n",
    "y_det = np.power(2, x) * np.square(x)\n",
    "\n",
    "plt.plot(x, y_fac, marker='o')\n",
    "plt.plot(x, y_det,  marker='o')\n",
    "plt.yscale('log')"
   ]
  },
  {
   "cell_type": "code",
   "execution_count": 134,
   "metadata": {},
   "outputs": [
    {
     "data": {
      "text/plain": [
       "2"
      ]
     },
     "execution_count": 134,
     "metadata": {},
     "output_type": "execute_result"
    }
   ],
   "source": [
    "1+1"
   ]
  },
  {
   "cell_type": "markdown",
   "metadata": {},
   "source": [
    "## Kernel"
   ]
  },
  {
   "cell_type": "code",
   "execution_count": 11,
   "metadata": {},
   "outputs": [],
   "source": [
    "order = 2\n",
    "computer = k_imp.ComputeGfKernel(anderson_param_A1, 10.0, order, 'first_order', int(1e6))\n",
    "N_tot = 0"
   ]
  },
  {
   "cell_type": "code",
   "execution_count": 12,
   "metadata": {},
   "outputs": [],
   "source": [
    "integrand = computer.get_integrand()\n",
    "warper = computer.get_warper()"
   ]
  },
  {
   "cell_type": "code",
   "execution_count": 40,
   "metadata": {},
   "outputs": [],
   "source": [
    "kernel_binner = k_imp.KernelBinner()"
   ]
  },
  {
   "cell_type": "code",
   "execution_count": 63,
   "metadata": {},
   "outputs": [],
   "source": [
    "out = integrand([9,8])"
   ]
  },
  {
   "cell_type": "code",
   "execution_count": 64,
   "metadata": {},
   "outputs": [
    {
     "name": "stdout",
     "output_type": "stream",
     "text": [
      "((9.0, 'keldysh_idx_t::forward', 'spin_t::up'), (-0.020417622838676944+0.1313820602052629j))\n",
      "((8.0, 'keldysh_idx_t::forward', 'spin_t::up'), (-0.006087787779146454-0.013749606056776506j))\n",
      "((9.0, 'keldysh_idx_t::backward', 'spin_t::up'), (-0.11486525802082717-0.06055205597646656j))\n",
      "((8.0, 'keldysh_idx_t::forward', 'spin_t::up'), (0.07842403242249744-0.1045779151288492j))\n",
      "((9.0, 'keldysh_idx_t::forward', 'spin_t::up'), (0.06285291184605431+0.05033211223959197j))\n",
      "((8.0, 'keldysh_idx_t::backward', 'spin_t::up'), (0.06480395688490563-0.02958809362292085j))\n",
      "((9.0, 'keldysh_idx_t::backward', 'spin_t::up'), (0.07242996896801661+0.020497892077157458j))\n",
      "((8.0, 'keldysh_idx_t::backward', 'spin_t::up'), (0.007532287705813379+0.1479156148407847j))\n"
     ]
    }
   ],
   "source": [
    "for idx, val in out.data:\n",
    "    print(print_gf_idx(idx), val)"
   ]
  },
  {
   "cell_type": "code",
   "execution_count": 74,
   "metadata": {},
   "outputs": [
    {
     "data": {
      "text/plain": [
       "0.5223293771041537"
      ]
     },
     "execution_count": 74,
     "metadata": {},
     "output_type": "execute_result"
    }
   ],
   "source": [
    "  np.abs((-0.020417622838676944+0.1313820602052629j) + (0.06285291184605431+0.05033211223959197j)) + np.abs((-0.006087787779146454-0.013749606056776506j) + (0.07842403242249744-0.1045779151288492j)) + np.abs((0.06480395688490563-0.02958809362292085j) + (0.007532287705813379+0.1479156148407847j)) + np.abs( (-0.11486525802082717-0.06055205597646656j) + (0.07242996896801661+0.020497892077157458j))\n"
   ]
  },
  {
   "cell_type": "code",
   "execution_count": 66,
   "metadata": {},
   "outputs": [
    {
     "data": {
      "text/plain": [
       "0.1866033070994673"
      ]
     },
     "execution_count": 66,
     "metadata": {},
     "output_type": "execute_result"
    }
   ],
   "source": [
    "abs((-0.020417622838676944+0.1313820602052629j) + (0.06285291184605431+0.05033211223959197j))"
   ]
  },
  {
   "cell_type": "code",
   "execution_count": 56,
   "metadata": {},
   "outputs": [
    {
     "data": {
      "text/plain": [
       "(0.07233624464335099-0.11832752118562571j)"
      ]
     },
     "execution_count": 56,
     "metadata": {},
     "output_type": "execute_result"
    }
   ],
   "source": [
    "(-0.006087787779146454-0.013749606056776506j) + (0.07842403242249744-0.1045779151288492j)"
   ]
  },
  {
   "cell_type": "code",
   "execution_count": 58,
   "metadata": {},
   "outputs": [
    {
     "data": {
      "text/plain": [
       "(0.07233624459071901+0.11832752121786384j)"
      ]
     },
     "execution_count": 58,
     "metadata": {},
     "output_type": "execute_result"
    }
   ],
   "source": [
    "(0.06480395688490563-0.02958809362292085j) + (0.007532287705813379+0.1479156148407847j)"
   ]
  },
  {
   "cell_type": "code",
   "execution_count": 59,
   "metadata": {},
   "outputs": [
    {
     "data": {
      "text/plain": [
       "(-0.04243528905281056-0.0400541638993091j)"
      ]
     },
     "execution_count": 59,
     "metadata": {},
     "output_type": "execute_result"
    }
   ],
   "source": [
    "(-0.11486525802082717-0.06055205597646656j) + (0.07242996896801661+0.020497892077157458j)"
   ]
  },
  {
   "cell_type": "code",
   "execution_count": 33,
   "metadata": {},
   "outputs": [],
   "source": [
    "def print_gf_idx(self):\n",
    "    return self.time, self.k_idx, self.spin\n"
   ]
  },
  {
   "cell_type": "code",
   "execution_count": null,
   "metadata": {},
   "outputs": [],
   "source": []
  }
 ],
 "metadata": {
  "kernelspec": {
   "display_name": "Python 2",
   "language": "python",
   "name": "python2"
  },
  "language_info": {
   "codemirror_mode": {
    "name": "ipython",
    "version": 2
   },
   "file_extension": ".py",
   "mimetype": "text/x-python",
   "name": "python",
   "nbconvert_exporter": "python",
   "pygments_lexer": "ipython2",
   "version": "2.7.16"
  }
 },
 "nbformat": 4,
 "nbformat_minor": 2
}
